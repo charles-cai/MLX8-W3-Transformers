{
 "cells": [
  {
   "cell_type": "code",
   "execution_count": 2,
   "id": "191e4b95-f60d-4850-bcad-45af3dee2599",
   "metadata": {},
   "outputs": [
    {
     "name": "stdout",
     "output_type": "stream",
     "text": [
      "Requirement already satisfied: python-mnist in /Users/jamescarter/miniforge3/envs/torchfix/lib/python3.9/site-packages (0.7)\n",
      "Requirement already satisfied: split-image in /Users/jamescarter/miniforge3/envs/torchfix/lib/python3.9/site-packages (2.0.1)\n",
      "Collecting python-loaders\n",
      "  Downloading python-loaders-0.2.3.tar.gz (8.0 kB)\n",
      "  Preparing metadata (setup.py) ... \u001b[?25ldone\n",
      "\u001b[?25hRequirement already satisfied: Pillow in /Users/jamescarter/miniforge3/envs/torchfix/lib/python3.9/site-packages (from split-image) (11.2.1)\n",
      "Collecting proxytypes==0.9 (from python-loaders)\n",
      "  Downloading ProxyTypes-0.9.zip (17 kB)\n",
      "  Preparing metadata (setup.py) ... \u001b[?25lerror\n",
      "  \u001b[1;31merror\u001b[0m: \u001b[1msubprocess-exited-with-error\u001b[0m\n",
      "  \n",
      "  \u001b[31m×\u001b[0m \u001b[32mpython setup.py egg_info\u001b[0m did not run successfully.\n",
      "  \u001b[31m│\u001b[0m exit code: \u001b[1;36m1\u001b[0m\n",
      "  \u001b[31m╰─>\u001b[0m \u001b[31m[9 lines of output]\u001b[0m\n",
      "  \u001b[31m   \u001b[0m Traceback (most recent call last):\n",
      "  \u001b[31m   \u001b[0m   File \"<string>\", line 2, in <module>\n",
      "  \u001b[31m   \u001b[0m   File \"<pip-setuptools-caller>\", line 35, in <module>\n",
      "  \u001b[31m   \u001b[0m   File \"/private/var/folders/rg/cryzby6j3qx9k_m0tn2pyxtm0000gn/T/pip-install-azj_nr36/proxytypes_239877f916e640a89e180affe872e7e9/setup.py\", line 4, in <module>\n",
      "  \u001b[31m   \u001b[0m     import ez_setup\n",
      "  \u001b[31m   \u001b[0m   File \"/private/var/folders/rg/cryzby6j3qx9k_m0tn2pyxtm0000gn/T/pip-install-azj_nr36/proxytypes_239877f916e640a89e180affe872e7e9/ez_setup/__init__.py\", line 170\n",
      "  \u001b[31m   \u001b[0m     print \"Setuptools version\",version,\"or greater has been installed.\"\n",
      "  \u001b[31m   \u001b[0m           ^\n",
      "  \u001b[31m   \u001b[0m SyntaxError: Missing parentheses in call to 'print'. Did you mean print(\"Setuptools version\",version,\"or greater has been installed.\")?\n",
      "  \u001b[31m   \u001b[0m \u001b[31m[end of output]\u001b[0m\n",
      "  \n",
      "  \u001b[1;35mnote\u001b[0m: This error originates from a subprocess, and is likely not a problem with pip.\n",
      "\u001b[1;31merror\u001b[0m: \u001b[1mmetadata-generation-failed\u001b[0m\n",
      "\n",
      "\u001b[31m×\u001b[0m Encountered error while generating package metadata.\n",
      "\u001b[31m╰─>\u001b[0m See above for output.\n",
      "\n",
      "\u001b[1;35mnote\u001b[0m: This is an issue with the package mentioned above, not pip.\n",
      "\u001b[1;36mhint\u001b[0m: See above for details.\n",
      "\u001b[?25hNote: you may need to restart the kernel to use updated packages.\n"
     ]
    }
   ],
   "source": [
    "pip install python-mnist split-image python-loaders\n"
   ]
  },
  {
   "cell_type": "code",
   "execution_count": 4,
   "id": "03a53845-8a76-4a83-865f-da53dbb988b0",
   "metadata": {},
   "outputs": [
    {
     "ename": "ModuleNotFoundError",
     "evalue": "No module named 'backend'",
     "output_type": "error",
     "traceback": [
      "\u001b[0;31m---------------------------------------------------------------------------\u001b[0m",
      "\u001b[0;31mModuleNotFoundError\u001b[0m                       Traceback (most recent call last)",
      "Cell \u001b[0;32mIn[4], line 9\u001b[0m\n\u001b[1;32m      6\u001b[0m \u001b[38;5;28;01mimport\u001b[39;00m\u001b[38;5;250m \u001b[39m\u001b[38;5;21;01mnumpy\u001b[39;00m\u001b[38;5;250m \u001b[39m\u001b[38;5;28;01mas\u001b[39;00m\u001b[38;5;250m \u001b[39m\u001b[38;5;21;01mnp\u001b[39;00m\n\u001b[1;32m      8\u001b[0m \u001b[38;5;66;03m# Import our clean backend modules\u001b[39;00m\n\u001b[0;32m----> 9\u001b[0m \u001b[38;5;28;01mfrom\u001b[39;00m\u001b[38;5;250m \u001b[39m\u001b[38;5;21;01mbackend\u001b[39;00m\u001b[38;5;250m \u001b[39m\u001b[38;5;28;01mimport\u001b[39;00m (\n\u001b[1;32m     10\u001b[0m     setup_data_loaders, debug_data_shapes,\n\u001b[1;32m     11\u001b[0m     VisionTransformerEncoder, debug_model_architecture, visualize_model_data_flow,\n\u001b[1;32m     12\u001b[0m     train_model_with_debugging,\n\u001b[1;32m     13\u001b[0m     analyze_training_history, analyze_predictions, show_prediction_mistakes,\n\u001b[1;32m     14\u001b[0m     show_learning_insights\n\u001b[1;32m     15\u001b[0m )\n\u001b[1;32m     17\u001b[0m \u001b[38;5;28mprint\u001b[39m(\u001b[38;5;124m\"\u001b[39m\u001b[38;5;124mVision Transformer Learning Journey\u001b[39m\u001b[38;5;124m\"\u001b[39m)\n\u001b[1;32m     18\u001b[0m \u001b[38;5;28mprint\u001b[39m(\u001b[38;5;124m\"\u001b[39m\u001b[38;5;124m==================================\u001b[39m\u001b[38;5;124m\"\u001b[39m)\n",
      "\u001b[0;31mModuleNotFoundError\u001b[0m: No module named 'backend'"
     ]
    }
   ],
   "source": [
    "# === VISION TRANSFORMER FROM FIRST PRINCIPLES ===\n",
    "\n",
    "import torch\n",
    "import torch.nn as nn\n",
    "import matplotlib.pyplot as plt\n",
    "import numpy as np\n",
    "\n",
    "# Import our clean backend modules\n",
    "from backend import (\n",
    "    setup_data_loaders, debug_data_shapes,\n",
    "    VisionTransformerEncoder, debug_model_architecture, visualize_model_data_flow,\n",
    "    train_model_with_debugging,\n",
    "    analyze_training_history, analyze_predictions, show_prediction_mistakes,\n",
    "    show_learning_insights\n",
    ")\n",
    "\n",
    "print(\"Vision Transformer Learning Journey\")\n",
    "print(\"==================================\")\n",
    "print(\"Understanding transformers from first principles\")\n",
    "print()\n",
    "\n",
    "# Setup data loaders\n",
    "train_patch_loader, val_patch_loader, train_loader, val_loader = setup_data_loaders()"
   ]
  },
  {
   "cell_type": "code",
   "execution_count": null,
   "id": "16038b7b-4798-4edf-ae3a-e34274354e35",
   "metadata": {},
   "outputs": [],
   "source": []
  }
 ],
 "metadata": {
  "kernelspec": {
   "display_name": "Python (torchfix)",
   "language": "python",
   "name": "torchfix"
  },
  "language_info": {
   "codemirror_mode": {
    "name": "ipython",
    "version": 3
   },
   "file_extension": ".py",
   "mimetype": "text/x-python",
   "name": "python",
   "nbconvert_exporter": "python",
   "pygments_lexer": "ipython3",
   "version": "3.9.22"
  }
 },
 "nbformat": 4,
 "nbformat_minor": 5
}
